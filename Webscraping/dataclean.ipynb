{
 "metadata": {
  "language_info": {
   "codemirror_mode": {
    "name": "ipython",
    "version": 3
   },
   "file_extension": ".py",
   "mimetype": "text/x-python",
   "name": "python",
   "nbconvert_exporter": "python",
   "pygments_lexer": "ipython3",
   "version": "3.8.3-final"
  },
  "orig_nbformat": 2,
  "kernelspec": {
   "name": "python3",
   "display_name": "Python 3"
  }
 },
 "nbformat": 4,
 "nbformat_minor": 2,
 "cells": [
  {
   "cell_type": "code",
   "execution_count": 23,
   "metadata": {},
   "outputs": [],
   "source": [
    "import pandas as pd\n",
    "import numpy as np\n",
    "import re\n",
    "pd.options.display.max_rows\n",
    "# Set it None to display all rows in the dataframe\n",
    "pd.set_option('display.max_rows', None)"
   ]
  },
  {
   "cell_type": "code",
   "execution_count": 2,
   "metadata": {},
   "outputs": [],
   "source": [
    "hoodie_df = pd.read_csv('/Users/jeffchan/Documents/Xccelerate/CoWork./Project-4/WebScraping/adidas_Hoodie.csv')"
   ]
  },
  {
   "cell_type": "code",
   "execution_count": 3,
   "metadata": {},
   "outputs": [
    {
     "output_type": "execute_result",
     "data": {
      "text/plain": [
       "Unnamed: 0       0\n",
       "product_image    0\n",
       "product_price    0\n",
       "product_title    0\n",
       "product_url      0\n",
       "dtype: int64"
      ]
     },
     "metadata": {},
     "execution_count": 3
    }
   ],
   "source": [
    "# check any missing value\n",
    "hoodie_df.isna().sum()"
   ]
  },
  {
   "cell_type": "code",
   "execution_count": 6,
   "metadata": {},
   "outputs": [
    {
     "output_type": "execute_result",
     "data": {
      "text/plain": [
       "Empty DataFrame\n",
       "Columns: [Unnamed: 0, product_image, product_price, product_title, product_url]\n",
       "Index: []"
      ],
      "text/html": "<div>\n<style scoped>\n    .dataframe tbody tr th:only-of-type {\n        vertical-align: middle;\n    }\n\n    .dataframe tbody tr th {\n        vertical-align: top;\n    }\n\n    .dataframe thead th {\n        text-align: right;\n    }\n</style>\n<table border=\"1\" class=\"dataframe\">\n  <thead>\n    <tr style=\"text-align: right;\">\n      <th></th>\n      <th>Unnamed: 0</th>\n      <th>product_image</th>\n      <th>product_price</th>\n      <th>product_title</th>\n      <th>product_url</th>\n    </tr>\n  </thead>\n  <tbody>\n  </tbody>\n</table>\n</div>"
     },
     "metadata": {},
     "execution_count": 6
    }
   ],
   "source": [
    "# locate missing value\n",
    "hoodie_df.loc[hoodie_df.isnull().any(axis=1)]"
   ]
  },
  {
   "cell_type": "code",
   "execution_count": 7,
   "metadata": {},
   "outputs": [],
   "source": [
    "# delete unnamed column\n",
    "hoodie_df = hoodie_df.drop(columns=['Unnamed: 0'], axis=1)"
   ]
  },
  {
   "cell_type": "code",
   "execution_count": 8,
   "metadata": {},
   "outputs": [
    {
     "output_type": "execute_result",
     "data": {
      "text/plain": [
       "                                         product_image product_price  \\\n",
       "0    http://img.adidas.com.hk/resources/2020/10/27/...     HK$799.00   \n",
       "1    http://img.adidas.com.hk/resources/2020/10/27/...     HK$699.00   \n",
       "2    http://img.adidas.com.hk/resources/2020/10/26/...     HK$549.00   \n",
       "3    http://img.adidas.com.hk/resources/2020/11/10/...     HK$859.00   \n",
       "4    http://img.adidas.com.hk/resources/2020/11/10/...     HK$859.00   \n",
       "..                                                 ...           ...   \n",
       "114  http://img.adidas.com.hk/resources/2019/12/30/...     HK$450.00   \n",
       "115  http://img.adidas.com.hk/resources/2020/2/4/15...     HK$275.00   \n",
       "116  http://img.adidas.com.hk/resources/2019/12/2/1...     HK$275.00   \n",
       "117  http://img.adidas.com.hk/resources/2020/1/6/15...     HK$400.00   \n",
       "118  http://img.adidas.com.hk/resources/2019/2/14/1...     HK$450.00   \n",
       "\n",
       "                                   product_title  \\\n",
       "0                         \\nBIG TREFOIL HOODIE\\n   \n",
       "1                                   BX-2O HOODIE   \n",
       "2    \\nMUST HAVES WINTER BADGE OF SPORT HOODIE\\n   \n",
       "3                                  \\nFP HOODIE\\n   \n",
       "4                                  \\nFP HOODIE\\n   \n",
       "..                                           ...   \n",
       "114                       \\nADIDAS Z.N.E. 連帽衛衣\\n   \n",
       "115                        \\nWOVEN POCKET 連帽衛衣\\n   \n",
       "116                                     \\n連帽衛衣\\n   \n",
       "117                               \\n大三葉標誌 連帽衛衣\\n   \n",
       "118                              \\nZ.N.E 飛行員外套\\n   \n",
       "\n",
       "                                           product_url  \n",
       "0    https://www.adidas.com.hk/item/GE0869?locale=e...  \n",
       "1    https://www.adidas.com.hk/item/GD5796?locale=e...  \n",
       "2    https://www.adidas.com.hk/item/FR6610?locale=e...  \n",
       "3    https://www.adidas.com.hk/item/GV0923?locale=e...  \n",
       "4    https://www.adidas.com.hk/item/GV0922?locale=e...  \n",
       "..                                                 ...  \n",
       "114  https://www.adidas.com.hk/item/FM9340?locale=z...  \n",
       "115  https://www.adidas.com.hk/item/FL5712?locale=z...  \n",
       "116  https://www.adidas.com.hk/item/GI6397?locale=z...  \n",
       "117  https://www.adidas.com.hk/item/FM9909?locale=z...  \n",
       "118  https://www.adidas.com.hk/item/DW5719?locale=z...  \n",
       "\n",
       "[119 rows x 4 columns]"
      ],
      "text/html": "<div>\n<style scoped>\n    .dataframe tbody tr th:only-of-type {\n        vertical-align: middle;\n    }\n\n    .dataframe tbody tr th {\n        vertical-align: top;\n    }\n\n    .dataframe thead th {\n        text-align: right;\n    }\n</style>\n<table border=\"1\" class=\"dataframe\">\n  <thead>\n    <tr style=\"text-align: right;\">\n      <th></th>\n      <th>product_image</th>\n      <th>product_price</th>\n      <th>product_title</th>\n      <th>product_url</th>\n    </tr>\n  </thead>\n  <tbody>\n    <tr>\n      <th>0</th>\n      <td>http://img.adidas.com.hk/resources/2020/10/27/...</td>\n      <td>HK$799.00</td>\n      <td>\\nBIG TREFOIL HOODIE\\n</td>\n      <td>https://www.adidas.com.hk/item/GE0869?locale=e...</td>\n    </tr>\n    <tr>\n      <th>1</th>\n      <td>http://img.adidas.com.hk/resources/2020/10/27/...</td>\n      <td>HK$699.00</td>\n      <td>BX-2O HOODIE</td>\n      <td>https://www.adidas.com.hk/item/GD5796?locale=e...</td>\n    </tr>\n    <tr>\n      <th>2</th>\n      <td>http://img.adidas.com.hk/resources/2020/10/26/...</td>\n      <td>HK$549.00</td>\n      <td>\\nMUST HAVES WINTER BADGE OF SPORT HOODIE\\n</td>\n      <td>https://www.adidas.com.hk/item/FR6610?locale=e...</td>\n    </tr>\n    <tr>\n      <th>3</th>\n      <td>http://img.adidas.com.hk/resources/2020/11/10/...</td>\n      <td>HK$859.00</td>\n      <td>\\nFP HOODIE\\n</td>\n      <td>https://www.adidas.com.hk/item/GV0923?locale=e...</td>\n    </tr>\n    <tr>\n      <th>4</th>\n      <td>http://img.adidas.com.hk/resources/2020/11/10/...</td>\n      <td>HK$859.00</td>\n      <td>\\nFP HOODIE\\n</td>\n      <td>https://www.adidas.com.hk/item/GV0922?locale=e...</td>\n    </tr>\n    <tr>\n      <th>...</th>\n      <td>...</td>\n      <td>...</td>\n      <td>...</td>\n      <td>...</td>\n    </tr>\n    <tr>\n      <th>114</th>\n      <td>http://img.adidas.com.hk/resources/2019/12/30/...</td>\n      <td>HK$450.00</td>\n      <td>\\nADIDAS Z.N.E. 連帽衛衣\\n</td>\n      <td>https://www.adidas.com.hk/item/FM9340?locale=z...</td>\n    </tr>\n    <tr>\n      <th>115</th>\n      <td>http://img.adidas.com.hk/resources/2020/2/4/15...</td>\n      <td>HK$275.00</td>\n      <td>\\nWOVEN POCKET 連帽衛衣\\n</td>\n      <td>https://www.adidas.com.hk/item/FL5712?locale=z...</td>\n    </tr>\n    <tr>\n      <th>116</th>\n      <td>http://img.adidas.com.hk/resources/2019/12/2/1...</td>\n      <td>HK$275.00</td>\n      <td>\\n連帽衛衣\\n</td>\n      <td>https://www.adidas.com.hk/item/GI6397?locale=z...</td>\n    </tr>\n    <tr>\n      <th>117</th>\n      <td>http://img.adidas.com.hk/resources/2020/1/6/15...</td>\n      <td>HK$400.00</td>\n      <td>\\n大三葉標誌 連帽衛衣\\n</td>\n      <td>https://www.adidas.com.hk/item/FM9909?locale=z...</td>\n    </tr>\n    <tr>\n      <th>118</th>\n      <td>http://img.adidas.com.hk/resources/2019/2/14/1...</td>\n      <td>HK$450.00</td>\n      <td>\\nZ.N.E 飛行員外套\\n</td>\n      <td>https://www.adidas.com.hk/item/DW5719?locale=z...</td>\n    </tr>\n  </tbody>\n</table>\n<p>119 rows × 4 columns</p>\n</div>"
     },
     "metadata": {},
     "execution_count": 8
    }
   ],
   "source": [
    "hoodie_df"
   ]
  },
  {
   "cell_type": "code",
   "execution_count": 10,
   "metadata": {},
   "outputs": [
    {
     "output_type": "stream",
     "name": "stdout",
     "text": [
      "<class 'str'>\n"
     ]
    }
   ],
   "source": [
    "print(type('product_price'))"
   ]
  },
  {
   "cell_type": "code",
   "execution_count": 19,
   "metadata": {},
   "outputs": [],
   "source": [
    "hoodie_df['product_title'] = hoodie_df['product_title'].str.strip()"
   ]
  },
  {
   "source": [
    "hoodie_df.head(15)"
   ],
   "cell_type": "code",
   "metadata": {},
   "execution_count": 28,
   "outputs": [
    {
     "output_type": "execute_result",
     "data": {
      "text/plain": [
       "                                        product_image product_price  \\\n",
       "0   http://img.adidas.com.hk/resources/2020/10/27/...     HK$799.00   \n",
       "1   http://img.adidas.com.hk/resources/2020/10/27/...     HK$699.00   \n",
       "2   http://img.adidas.com.hk/resources/2020/10/26/...     HK$549.00   \n",
       "3   http://img.adidas.com.hk/resources/2020/11/10/...     HK$859.00   \n",
       "4   http://img.adidas.com.hk/resources/2020/11/10/...     HK$859.00   \n",
       "5   http://img.adidas.com.hk/resources/2020/10/26/...     HK$499.00   \n",
       "6   http://img.adidas.com.hk/resources/2020/5/7/15...    HK$1299.00   \n",
       "7   http://img.adidas.com.hk/resources/2020/11/25/...     HK$499.00   \n",
       "8   http://img.adidas.com.hk/resources/2020/11/25/...     HK$499.00   \n",
       "9   http://img.adidas.com.hk/resources/2020/11/25/...     HK$499.00   \n",
       "10  http://img.adidas.com.hk/resources/2020/10/27/...     HK$999.00   \n",
       "11  http://img.adidas.com.hk/resources/2020/10/27/...     HK$999.00   \n",
       "12  http://img.adidas.com.hk/resources/2020/10/26/...     HK$399.00   \n",
       "13  http://img.adidas.com.hk/resources/2020/10/27/...     HK$449.00   \n",
       "14  http://img.adidas.com.hk/resources/2020/10/27/...     HK$499.00   \n",
       "\n",
       "                              product_title  \\\n",
       "0                        BIG TREFOIL HOODIE   \n",
       "1                              BX-2O HOODIE   \n",
       "2   MUST HAVES WINTER BADGE OF SPORT HOODIE   \n",
       "3                                 FP HOODIE   \n",
       "4                                 FP HOODIE   \n",
       "5                          CITY BASE HOODIE   \n",
       "6                         424 R.Y.V. HOODIE   \n",
       "7                     HONG KONG TOON HOODIE   \n",
       "8                     HONG KONG TOON HOODIE   \n",
       "9                     HONG KONG TOON HOODIE   \n",
       "10                                   HOODIE   \n",
       "11                                     連帽衛衣   \n",
       "12                   BADGE OF SPORT 抓毛 連帽衛衣   \n",
       "13                            COLD.RDY 連帽衛衣   \n",
       "14                                     連帽衛衣   \n",
       "\n",
       "                                          product_url  \n",
       "0   https://www.adidas.com.hk/item/GE0869?locale=e...  \n",
       "1   https://www.adidas.com.hk/item/GD5796?locale=e...  \n",
       "2   https://www.adidas.com.hk/item/FR6610?locale=e...  \n",
       "3   https://www.adidas.com.hk/item/GV0923?locale=e...  \n",
       "4   https://www.adidas.com.hk/item/GV0922?locale=e...  \n",
       "5   https://www.adidas.com.hk/item/FL1507?locale=e...  \n",
       "6   https://www.adidas.com.hk/item/FS6237?locale=e...  \n",
       "7   https://www.adidas.com.hk/item/GV4622?locale=e...  \n",
       "8   https://www.adidas.com.hk/item/GV1489?locale=e...  \n",
       "9   https://www.adidas.com.hk/item/GV4621?locale=e...  \n",
       "10  https://www.adidas.com.hk/item/GS2631?locale=e...  \n",
       "11  https://www.adidas.com.hk/item/GS2634?locale=z...  \n",
       "12  https://www.adidas.com.hk/item/FR6609?locale=z...  \n",
       "13  https://www.adidas.com.hk/item/GJ8936?locale=z...  \n",
       "14  https://www.adidas.com.hk/item/GV3526?locale=z...  "
      ],
      "text/html": "<div>\n<style scoped>\n    .dataframe tbody tr th:only-of-type {\n        vertical-align: middle;\n    }\n\n    .dataframe tbody tr th {\n        vertical-align: top;\n    }\n\n    .dataframe thead th {\n        text-align: right;\n    }\n</style>\n<table border=\"1\" class=\"dataframe\">\n  <thead>\n    <tr style=\"text-align: right;\">\n      <th></th>\n      <th>product_image</th>\n      <th>product_price</th>\n      <th>product_title</th>\n      <th>product_url</th>\n    </tr>\n  </thead>\n  <tbody>\n    <tr>\n      <th>0</th>\n      <td>http://img.adidas.com.hk/resources/2020/10/27/...</td>\n      <td>HK$799.00</td>\n      <td>BIG TREFOIL HOODIE</td>\n      <td>https://www.adidas.com.hk/item/GE0869?locale=e...</td>\n    </tr>\n    <tr>\n      <th>1</th>\n      <td>http://img.adidas.com.hk/resources/2020/10/27/...</td>\n      <td>HK$699.00</td>\n      <td>BX-2O HOODIE</td>\n      <td>https://www.adidas.com.hk/item/GD5796?locale=e...</td>\n    </tr>\n    <tr>\n      <th>2</th>\n      <td>http://img.adidas.com.hk/resources/2020/10/26/...</td>\n      <td>HK$549.00</td>\n      <td>MUST HAVES WINTER BADGE OF SPORT HOODIE</td>\n      <td>https://www.adidas.com.hk/item/FR6610?locale=e...</td>\n    </tr>\n    <tr>\n      <th>3</th>\n      <td>http://img.adidas.com.hk/resources/2020/11/10/...</td>\n      <td>HK$859.00</td>\n      <td>FP HOODIE</td>\n      <td>https://www.adidas.com.hk/item/GV0923?locale=e...</td>\n    </tr>\n    <tr>\n      <th>4</th>\n      <td>http://img.adidas.com.hk/resources/2020/11/10/...</td>\n      <td>HK$859.00</td>\n      <td>FP HOODIE</td>\n      <td>https://www.adidas.com.hk/item/GV0922?locale=e...</td>\n    </tr>\n    <tr>\n      <th>5</th>\n      <td>http://img.adidas.com.hk/resources/2020/10/26/...</td>\n      <td>HK$499.00</td>\n      <td>CITY BASE HOODIE</td>\n      <td>https://www.adidas.com.hk/item/FL1507?locale=e...</td>\n    </tr>\n    <tr>\n      <th>6</th>\n      <td>http://img.adidas.com.hk/resources/2020/5/7/15...</td>\n      <td>HK$1299.00</td>\n      <td>424 R.Y.V. HOODIE</td>\n      <td>https://www.adidas.com.hk/item/FS6237?locale=e...</td>\n    </tr>\n    <tr>\n      <th>7</th>\n      <td>http://img.adidas.com.hk/resources/2020/11/25/...</td>\n      <td>HK$499.00</td>\n      <td>HONG KONG TOON HOODIE</td>\n      <td>https://www.adidas.com.hk/item/GV4622?locale=e...</td>\n    </tr>\n    <tr>\n      <th>8</th>\n      <td>http://img.adidas.com.hk/resources/2020/11/25/...</td>\n      <td>HK$499.00</td>\n      <td>HONG KONG TOON HOODIE</td>\n      <td>https://www.adidas.com.hk/item/GV1489?locale=e...</td>\n    </tr>\n    <tr>\n      <th>9</th>\n      <td>http://img.adidas.com.hk/resources/2020/11/25/...</td>\n      <td>HK$499.00</td>\n      <td>HONG KONG TOON HOODIE</td>\n      <td>https://www.adidas.com.hk/item/GV4621?locale=e...</td>\n    </tr>\n    <tr>\n      <th>10</th>\n      <td>http://img.adidas.com.hk/resources/2020/10/27/...</td>\n      <td>HK$999.00</td>\n      <td>HOODIE</td>\n      <td>https://www.adidas.com.hk/item/GS2631?locale=e...</td>\n    </tr>\n    <tr>\n      <th>11</th>\n      <td>http://img.adidas.com.hk/resources/2020/10/27/...</td>\n      <td>HK$999.00</td>\n      <td>連帽衛衣</td>\n      <td>https://www.adidas.com.hk/item/GS2634?locale=z...</td>\n    </tr>\n    <tr>\n      <th>12</th>\n      <td>http://img.adidas.com.hk/resources/2020/10/26/...</td>\n      <td>HK$399.00</td>\n      <td>BADGE OF SPORT 抓毛 連帽衛衣</td>\n      <td>https://www.adidas.com.hk/item/FR6609?locale=z...</td>\n    </tr>\n    <tr>\n      <th>13</th>\n      <td>http://img.adidas.com.hk/resources/2020/10/27/...</td>\n      <td>HK$449.00</td>\n      <td>COLD.RDY 連帽衛衣</td>\n      <td>https://www.adidas.com.hk/item/GJ8936?locale=z...</td>\n    </tr>\n    <tr>\n      <th>14</th>\n      <td>http://img.adidas.com.hk/resources/2020/10/27/...</td>\n      <td>HK$499.00</td>\n      <td>連帽衛衣</td>\n      <td>https://www.adidas.com.hk/item/GV3526?locale=z...</td>\n    </tr>\n  </tbody>\n</table>\n</div>"
     },
     "metadata": {},
     "execution_count": 28
    }
   ]
  },
  {
   "cell_type": "code",
   "execution_count": 29,
   "metadata": {},
   "outputs": [
    {
     "output_type": "execute_result",
     "data": {
      "text/plain": [
       "0                           BIG TREFOIL HOODIE\n",
       "1                                 BX-2O HOODIE\n",
       "2      MUST HAVES WINTER BADGE OF SPORT HOODIE\n",
       "3                                    FP HOODIE\n",
       "4                                    FP HOODIE\n",
       "5                             CITY BASE HOODIE\n",
       "6                            424 R.Y.V. HOODIE\n",
       "7                        HONG KONG TOON HOODIE\n",
       "8                        HONG KONG TOON HOODIE\n",
       "9                        HONG KONG TOON HOODIE\n",
       "10                                      HOODIE\n",
       "11                                      HOODIE\n",
       "12                      BADGE OF SPORT 抓毛 連帽衛衣\n",
       "13                               COLD.RDY 連帽衛衣\n",
       "14                                      HOODIE\n",
       "15                                 VELOUR 連帽衛衣\n",
       "16                                 HOODED 運動衛衣\n",
       "17                               LION LIU 連帽衛衣\n",
       "18                             LION ZHANG 連帽衛衣\n",
       "19                              LION GUAN 連帽衛衣\n",
       "20                                  CREST 連帽衛衣\n",
       "21                           ESSENTIAL 三間 連帽衛衣\n",
       "22                            BIG TREFOIL 連帽衛衣\n",
       "23                            BIG TREFOIL 連帽衛衣\n",
       "24                                RUN DMC 連帽衛衣\n",
       "25                                RUN-DMC 連帽衛衣\n",
       "26                             CAMOUFLAGE 連帽衛衣\n",
       "27                              URBAN BOA 連帽衛衣\n",
       "28                               BIG LOGO 連帽衛衣\n",
       "29                               BIG LOGO 連帽衛衣\n",
       "30                               BIG LOGO 連帽衛衣\n",
       "31                               COLD.RDY 連帽衛衣\n",
       "32                        Z.N.E. COLD.RDY 連帽衛衣\n",
       "33                              ADVENTURE 連帽衛衣\n",
       "34                               COLD.RDY 連帽衛衣\n",
       "35                    AERO.RDY 3-STRIPES 連帽衛衣S\n",
       "36                        Z.N.E. AERO.RDY 連帽衛衣\n",
       "37                          JUVENTUS 祖雲達斯 連帽衛衣\n",
       "38                                   KNIT 連帽衛衣\n",
       "39                                    AOP 連帽衛衣\n",
       "40                                   KNIT 連帽衛衣\n",
       "41                                    AOP 連帽衛衣\n",
       "42                                     絲絨 連帽衛衣\n",
       "43                      REAL MADRID 皇家馬德里 連帽衛衣\n",
       "44               MUST HAVE BADGE OF SPORT 連帽衛衣\n",
       "45            MANCHESTER UNITED 曼聯 TRAVEL 連帽衛衣\n",
       "46                                GRAPHIC 連帽衛衣\n",
       "47                                TORSION 連帽衛衣\n",
       "48                            PRIME GREEN 連帽衛衣\n",
       "49                            PRIME GREEN 連帽衛衣\n",
       "50                            PRIME GREEN 連帽衛衣\n",
       "51                               EMBOSSED 連帽衛衣\n",
       "52                     ESSENTIALS COMFORT 連帽衛衣\n",
       "53      MANCHESTER UNITED 曼聯 20/21 三間 全拉鏈 連帽衛衣\n",
       "54                     ESSENTIALS COMFORT 連帽衛衣\n",
       "55               MUST HAVES WORD FULL-ZIP 運動衛衣\n",
       "56                                   WUJI 連帽衛衣\n",
       "57                        WUJI CREW STORY 連帽衛衣\n",
       "58                                TREFOIL 連帽上衣\n",
       "59                                   WUJI 連帽衛衣\n",
       "60                              3-STRIPES 連帽衛衣\n",
       "61                                      HOODIE\n",
       "62                        WUJI CREW STORY 連帽衛衣\n",
       "63                  FC BAYERN 拜仁慕尼黑 20/21 連帽衛衣\n",
       "64                    FEELCOZY FLEECE 連帽 田徑 外套\n",
       "65                                  URBAN 連帽衛衣\n",
       "66                   ESSENTIALS 3-STRIPES 連帽衛衣\n",
       "67                                    保羅普巴連帽衛衣\n",
       "68               PHARRELL WILLIAMS BASICS 連帽衛衣\n",
       "69               PHARRELL WILLIAMS BASICS 連帽衛衣\n",
       "70               PHARRELL WILLIAMS BASICS 連帽衛衣\n",
       "71               PHARRELL WILLIAMS BASICS 連帽衛衣\n",
       "72               PHARRELL WILLIAMS BASICS 連帽衛衣\n",
       "73               PHARRELL WILLIAMS BASICS 連帽衛衣\n",
       "74               3D TREFOIL GRAPHIC SWEAT 連帽衛衣\n",
       "75               3D TREFOIL GRAPHIC SWEAT 連帽衛衣\n",
       "76               3D TREFOIL GRAPHIC SWEAT 連帽衛衣\n",
       "77                                TREFOIL 連帽衛衣\n",
       "78                    ADICOLOR 3D 三葉標誌 三間 連帽衛衣\n",
       "79                                   三葉標誌 連帽衛衣\n",
       "80                    ADICOLOR 3D 三葉標誌 三間 連帽衛衣\n",
       "81                                  URBAN 連帽衛衣\n",
       "82                                      HOODIE\n",
       "83                                  URBAN 連帽衛衣\n",
       "84                                      HOODIE\n",
       "85         ESSENTIALS COLORBLOCK PULLOVER 連帽衛衣\n",
       "86                     BADGE OF SPORT 毛圈布 連帽衛衣\n",
       "87                     BADGE OF SPORT 毛圈布 連帽衛衣\n",
       "88                                  TECHY 連帽衛衣\n",
       "89                         R.Y.V. FASHION 連帽衛衣\n",
       "90                         PRIME COLD.RDY 連帽衛衣\n",
       "91                                 ANIMAL 連帽衛衣\n",
       "92                                 ANIMAL 連帽衛衣\n",
       "93                    PHARRELL WILLIAMS BB 連帽衫\n",
       "94                                  EGAME 連帽衛衣\n",
       "95                                    ZNE 連帽衛衣\n",
       "96                                  SHMOO 連帽衛衣\n",
       "97               D.O.N. ISSUE #2 PULLOVER 連帽衛衣\n",
       "98                            ADI TREFOIL 連帽衛衣\n",
       "99                                 ID TRACK 外套\n",
       "100                         BED J.W. FORD 連帽衛衣\n",
       "101                              DAME CNY 連帽衛衣\n",
       "102                         ADIDAS Z.N.E. 連帽衛衣\n",
       "103                               迪士尼 CNY 連帽衛衣\n",
       "104                                     HOODIE\n",
       "105                               迪士尼 CNY 連帽衛衣\n",
       "106                               PREMIUM 連帽衛衣\n",
       "107                               PREMIUM 連帽衛衣\n",
       "108                                         外套\n",
       "109                                    情人節連帽衛衣\n",
       "110                              DAME CNY 運動衛衣\n",
       "111                                     HOODIE\n",
       "112                                R.Y.V. 連帽衛衣\n",
       "113                      ADIDAS Z.N.E. 三間 連帽衛衣\n",
       "114                         ADIDAS Z.N.E. 連帽衛衣\n",
       "115                          WOVEN POCKET 連帽衛衣\n",
       "116                                     HOODIE\n",
       "117                                 大三葉標誌 連帽衛衣\n",
       "118                                Z.N.E 飛行員外套\n",
       "Name: product_title, dtype: object"
      ]
     },
     "metadata": {},
     "execution_count": 29
    }
   ],
   "source": [
    "hoodie_df['product_title'].replace('連帽衛衣', 'HOODIE')\n"
   ]
  },
  {
   "cell_type": "code",
   "execution_count": null,
   "metadata": {},
   "outputs": [],
   "source": []
  }
 ]
}