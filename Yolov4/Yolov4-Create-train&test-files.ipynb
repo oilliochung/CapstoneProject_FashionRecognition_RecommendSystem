{
 "metadata": {
  "language_info": {
   "codemirror_mode": {
    "name": "ipython",
    "version": 3
   },
   "file_extension": ".py",
   "mimetype": "text/x-python",
   "name": "python",
   "nbconvert_exporter": "python",
   "pygments_lexer": "ipython3",
   "version": "3.8.3-final"
  },
  "orig_nbformat": 2,
  "kernelspec": {
   "name": "python3",
   "display_name": "Python 3.8.3 64-bit ('anaconda3': virtualenv)",
   "metadata": {
    "interpreter": {
     "hash": "282fe00cd625d688981788b5c1adbd0ce3337073a10b7f360ff0c5e61bddee9a"
    }
   }
  }
 },
 "nbformat": 4,
 "nbformat_minor": 2,
 "cells": [
  {
   "cell_type": "code",
   "execution_count": 1,
   "metadata": {},
   "outputs": [],
   "source": [
    "# Import library\n",
    "import os"
   ]
  },
  {
   "cell_type": "code",
   "execution_count": 2,
   "metadata": {},
   "outputs": [],
   "source": [
    "# Set image Directory path\n",
    "image_path = '/Users/jeffchan/Documents/Documents/Xccelerate/CoWork./Project-4/labeled'\n",
    "os.chdir(image_path)"
   ]
  },
  {
   "cell_type": "code",
   "execution_count": 3,
   "metadata": {},
   "outputs": [],
   "source": [
    "# Iterate throught each image found in the directory and save the corresponding path to the list called as path_list\n",
    "\n",
    "path_list = []\n",
    "# Go through all the image files in the directory\n",
    "# Fullstop in os.walk('.') means the current directory\n",
    "for current_dir, dirs, files in os.walk('.'):\n",
    "    # Iterating through all the files\n",
    "    for f in files:\n",
    "        # Check if the file extension ends with '.png'\n",
    "        if f.endswith('.png'):\n",
    "            # Prepare file path to save into train.text\n",
    "            file_loc = image_path + '/' + f\n",
    "            # Append the path data into list 'path_list'. New line character \\n is used to write the new content\n",
    "            path_list.append(file_loc + '\\n')"
   ]
  },
  {
   "cell_type": "code",
   "execution_count": 4,
   "metadata": {},
   "outputs": [],
   "source": [
    "import random\n",
    "\n",
    "random.shuffle(path_list)\n",
    "\n",
    "# Randomly Divide the data into 80:20 ratio. Get 80% of data from path_list to write into the train.txt file\n",
    "train_data = path_list[:640]\n",
    "# Randomly Divide the data into 80:20 ratio. Get 20% of data from path_list to write into the test.txt file\n",
    "test_data = path_list[640:]"
   ]
  },
  {
   "cell_type": "code",
   "execution_count": 5,
   "metadata": {},
   "outputs": [],
   "source": [
    "# Create tran.text file and write 80% of (lines) inside it\n",
    "with open('train.txt', 'w') as train:\n",
    "    # Iterate through all the elements in the list\n",
    "    for i in train_data:\n",
    "        # Write the courrent path at the end of the file\n",
    "        train.write(i)\n",
    "\n",
    "# Create test.txt file and write 20% of data (lines) inside it.\n",
    "with open('test.txt', 'w') as test:\n",
    "    # Iterate through all the elements in the list\n",
    "    for i in test_data:\n",
    "        # Write the current path at the end of the file\n",
    "        test.write(i)"
   ]
  },
  {
   "cell_type": "code",
   "execution_count": 6,
   "metadata": {},
   "outputs": [],
   "source": [
    "# Initialize the counter\n",
    "i = 0\n",
    "# Create classes.names files by reading content from existing classes.txt file\n",
    "with open(image_path + '/' + 'classes.names', 'w') as cls, \\\n",
    "     open(image_path + '/' + 'classes.txt', 'r') as text:\n",
    "\n",
    "     # Iterate through individual lines in classes.txt file and write them into classes.names file\n",
    "     for l in text:\n",
    "         cls.write(l)\n",
    "\n",
    "         # Increasing counter\n",
    "         i += 1"
   ]
  },
  {
   "cell_type": "code",
   "execution_count": 7,
   "metadata": {},
   "outputs": [],
   "source": [
    "# Create image_data.data\n",
    "with open(image_path + '/' + 'image_data.data', 'w') as data:\n",
    "    # Write number of classes\n",
    "    data.write('classes = ' + str(i) + '\\n')\n",
    "    # Write fully qualified path of the train.txt file\n",
    "    data.write('train = ' + image_path + '/' + 'train.txt' + '\\n')\n",
    "    # Write fully qualified path of the test.txt file\n",
    "    data.write('valid = ' + image_path + '/' + 'test.txt' + '\\n')\n",
    "    # Write fully qualified path of the classes.names file\n",
    "    data.write('names = ' + image_path + '/' + 'classes.names' + '\\n')\n",
    "    # Specify folder path to save trained model weights\n",
    "    data.write('backup = backup')"
   ]
  },
  {
   "cell_type": "code",
   "execution_count": null,
   "metadata": {},
   "outputs": [],
   "source": []
  }
 ]
}